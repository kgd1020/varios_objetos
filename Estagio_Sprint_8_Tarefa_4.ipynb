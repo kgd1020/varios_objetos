{
  "nbformat": 4,
  "nbformat_minor": 0,
  "metadata": {
    "colab": {
      "provenance": [],
      "authorship_tag": "ABX9TyM5fzXEc5j8QgJ4IVZ1Nu48",
      "include_colab_link": true
    },
    "kernelspec": {
      "name": "python3",
      "display_name": "Python 3"
    },
    "language_info": {
      "name": "python"
    }
  },
  "cells": [
    {
      "cell_type": "markdown",
      "metadata": {
        "id": "view-in-github",
        "colab_type": "text"
      },
      "source": [
        "<a href=\"https://colab.research.google.com/github/kgd1020/varios_objetos/blob/main/Estagio_Sprint_8_Tarefa_4.ipynb\" target=\"_parent\"><img src=\"https://colab.research.google.com/assets/colab-badge.svg\" alt=\"Open In Colab\"/></a>"
      ]
    },
    {
      "cell_type": "markdown",
      "source": [
        "### ***ESTÁGIO SPRINT-8 TAREFA-4***"
      ],
      "metadata": {
        "id": "c4BMnrDv-6-S"
      }
    },
    {
      "cell_type": "markdown",
      "source": [
        "### Instalar o PYSPARK no Google Colab"
      ],
      "metadata": {
        "id": "FYlafY50-XBZ"
      }
    },
    {
      "cell_type": "code",
      "execution_count": 1,
      "metadata": {
        "colab": {
          "base_uri": "https://localhost:8080/"
        },
        "id": "MnvtKENy-LO6",
        "outputId": "d00945fa-c071-4760-bc62-8af38f4f9ed6"
      },
      "outputs": [
        {
          "output_type": "stream",
          "name": "stdout",
          "text": [
            "Looking in indexes: https://pypi.org/simple, https://us-python.pkg.dev/colab-wheels/public/simple/\n",
            "Collecting pyspark\n",
            "  Downloading pyspark-3.4.1.tar.gz (310.8 MB)\n",
            "\u001b[2K     \u001b[90m━━━━━━━━━━━━━━━━━━━━━━━━━━━━━━━━━━━━━━━\u001b[0m \u001b[32m310.8/310.8 MB\u001b[0m \u001b[31m3.1 MB/s\u001b[0m eta \u001b[36m0:00:00\u001b[0m\n",
            "\u001b[?25h  Preparing metadata (setup.py) ... \u001b[?25l\u001b[?25hdone\n",
            "Requirement already satisfied: py4j==0.10.9.7 in /usr/local/lib/python3.10/dist-packages (from pyspark) (0.10.9.7)\n",
            "Building wheels for collected packages: pyspark\n",
            "  Building wheel for pyspark (setup.py) ... \u001b[?25l\u001b[?25hdone\n",
            "  Created wheel for pyspark: filename=pyspark-3.4.1-py2.py3-none-any.whl size=311285398 sha256=fb81323354079e7d3aa053178fd244ffe5b3f9e01fc1e477e58436a70243ac17\n",
            "  Stored in directory: /root/.cache/pip/wheels/0d/77/a3/ff2f74cc9ab41f8f594dabf0579c2a7c6de920d584206e0834\n",
            "Successfully built pyspark\n",
            "Installing collected packages: pyspark\n",
            "Successfully installed pyspark-3.4.1\n"
          ]
        }
      ],
      "source": [
        "!pip install pyspark"
      ]
    },
    {
      "cell_type": "markdown",
      "source": [
        "### Importações de bibliotecas no Python"
      ],
      "metadata": {
        "id": "MSvBp8Hf_ly2"
      }
    },
    {
      "cell_type": "code",
      "source": [
        "from pyspark.sql import SparkSession\n",
        "from pyspark.sql.functions import *\n",
        "from pyspark.sql.types import *\n",
        "from google.colab import files\n",
        "from pyspark.sql.types import StringType"
      ],
      "metadata": {
        "id": "Yvqq0utJAgWb"
      },
      "execution_count": 2,
      "outputs": []
    },
    {
      "cell_type": "markdown",
      "source": [
        "### Fazer upload do arquivo 'nomes_aleatorios.txt' para o Google Colabb"
      ],
      "metadata": {
        "id": "pxaF1R57A95L"
      }
    },
    {
      "cell_type": "code",
      "source": [
        "uploaded = files.upload()"
      ],
      "metadata": {
        "colab": {
          "base_uri": "https://localhost:8080/",
          "height": 73
        },
        "id": "kxLeyutPBcfq",
        "outputId": "cade334e-a8e2-4714-c256-591a5954db08"
      },
      "execution_count": 4,
      "outputs": [
        {
          "output_type": "display_data",
          "data": {
            "text/plain": [
              "<IPython.core.display.HTML object>"
            ],
            "text/html": [
              "\n",
              "     <input type=\"file\" id=\"files-7f436026-831f-424b-a964-b24af72aabe7\" name=\"files[]\" multiple disabled\n",
              "        style=\"border:none\" />\n",
              "     <output id=\"result-7f436026-831f-424b-a964-b24af72aabe7\">\n",
              "      Upload widget is only available when the cell has been executed in the\n",
              "      current browser session. Please rerun this cell to enable.\n",
              "      </output>\n",
              "      <script>// Copyright 2017 Google LLC\n",
              "//\n",
              "// Licensed under the Apache License, Version 2.0 (the \"License\");\n",
              "// you may not use this file except in compliance with the License.\n",
              "// You may obtain a copy of the License at\n",
              "//\n",
              "//      http://www.apache.org/licenses/LICENSE-2.0\n",
              "//\n",
              "// Unless required by applicable law or agreed to in writing, software\n",
              "// distributed under the License is distributed on an \"AS IS\" BASIS,\n",
              "// WITHOUT WARRANTIES OR CONDITIONS OF ANY KIND, either express or implied.\n",
              "// See the License for the specific language governing permissions and\n",
              "// limitations under the License.\n",
              "\n",
              "/**\n",
              " * @fileoverview Helpers for google.colab Python module.\n",
              " */\n",
              "(function(scope) {\n",
              "function span(text, styleAttributes = {}) {\n",
              "  const element = document.createElement('span');\n",
              "  element.textContent = text;\n",
              "  for (const key of Object.keys(styleAttributes)) {\n",
              "    element.style[key] = styleAttributes[key];\n",
              "  }\n",
              "  return element;\n",
              "}\n",
              "\n",
              "// Max number of bytes which will be uploaded at a time.\n",
              "const MAX_PAYLOAD_SIZE = 100 * 1024;\n",
              "\n",
              "function _uploadFiles(inputId, outputId) {\n",
              "  const steps = uploadFilesStep(inputId, outputId);\n",
              "  const outputElement = document.getElementById(outputId);\n",
              "  // Cache steps on the outputElement to make it available for the next call\n",
              "  // to uploadFilesContinue from Python.\n",
              "  outputElement.steps = steps;\n",
              "\n",
              "  return _uploadFilesContinue(outputId);\n",
              "}\n",
              "\n",
              "// This is roughly an async generator (not supported in the browser yet),\n",
              "// where there are multiple asynchronous steps and the Python side is going\n",
              "// to poll for completion of each step.\n",
              "// This uses a Promise to block the python side on completion of each step,\n",
              "// then passes the result of the previous step as the input to the next step.\n",
              "function _uploadFilesContinue(outputId) {\n",
              "  const outputElement = document.getElementById(outputId);\n",
              "  const steps = outputElement.steps;\n",
              "\n",
              "  const next = steps.next(outputElement.lastPromiseValue);\n",
              "  return Promise.resolve(next.value.promise).then((value) => {\n",
              "    // Cache the last promise value to make it available to the next\n",
              "    // step of the generator.\n",
              "    outputElement.lastPromiseValue = value;\n",
              "    return next.value.response;\n",
              "  });\n",
              "}\n",
              "\n",
              "/**\n",
              " * Generator function which is called between each async step of the upload\n",
              " * process.\n",
              " * @param {string} inputId Element ID of the input file picker element.\n",
              " * @param {string} outputId Element ID of the output display.\n",
              " * @return {!Iterable<!Object>} Iterable of next steps.\n",
              " */\n",
              "function* uploadFilesStep(inputId, outputId) {\n",
              "  const inputElement = document.getElementById(inputId);\n",
              "  inputElement.disabled = false;\n",
              "\n",
              "  const outputElement = document.getElementById(outputId);\n",
              "  outputElement.innerHTML = '';\n",
              "\n",
              "  const pickedPromise = new Promise((resolve) => {\n",
              "    inputElement.addEventListener('change', (e) => {\n",
              "      resolve(e.target.files);\n",
              "    });\n",
              "  });\n",
              "\n",
              "  const cancel = document.createElement('button');\n",
              "  inputElement.parentElement.appendChild(cancel);\n",
              "  cancel.textContent = 'Cancel upload';\n",
              "  const cancelPromise = new Promise((resolve) => {\n",
              "    cancel.onclick = () => {\n",
              "      resolve(null);\n",
              "    };\n",
              "  });\n",
              "\n",
              "  // Wait for the user to pick the files.\n",
              "  const files = yield {\n",
              "    promise: Promise.race([pickedPromise, cancelPromise]),\n",
              "    response: {\n",
              "      action: 'starting',\n",
              "    }\n",
              "  };\n",
              "\n",
              "  cancel.remove();\n",
              "\n",
              "  // Disable the input element since further picks are not allowed.\n",
              "  inputElement.disabled = true;\n",
              "\n",
              "  if (!files) {\n",
              "    return {\n",
              "      response: {\n",
              "        action: 'complete',\n",
              "      }\n",
              "    };\n",
              "  }\n",
              "\n",
              "  for (const file of files) {\n",
              "    const li = document.createElement('li');\n",
              "    li.append(span(file.name, {fontWeight: 'bold'}));\n",
              "    li.append(span(\n",
              "        `(${file.type || 'n/a'}) - ${file.size} bytes, ` +\n",
              "        `last modified: ${\n",
              "            file.lastModifiedDate ? file.lastModifiedDate.toLocaleDateString() :\n",
              "                                    'n/a'} - `));\n",
              "    const percent = span('0% done');\n",
              "    li.appendChild(percent);\n",
              "\n",
              "    outputElement.appendChild(li);\n",
              "\n",
              "    const fileDataPromise = new Promise((resolve) => {\n",
              "      const reader = new FileReader();\n",
              "      reader.onload = (e) => {\n",
              "        resolve(e.target.result);\n",
              "      };\n",
              "      reader.readAsArrayBuffer(file);\n",
              "    });\n",
              "    // Wait for the data to be ready.\n",
              "    let fileData = yield {\n",
              "      promise: fileDataPromise,\n",
              "      response: {\n",
              "        action: 'continue',\n",
              "      }\n",
              "    };\n",
              "\n",
              "    // Use a chunked sending to avoid message size limits. See b/62115660.\n",
              "    let position = 0;\n",
              "    do {\n",
              "      const length = Math.min(fileData.byteLength - position, MAX_PAYLOAD_SIZE);\n",
              "      const chunk = new Uint8Array(fileData, position, length);\n",
              "      position += length;\n",
              "\n",
              "      const base64 = btoa(String.fromCharCode.apply(null, chunk));\n",
              "      yield {\n",
              "        response: {\n",
              "          action: 'append',\n",
              "          file: file.name,\n",
              "          data: base64,\n",
              "        },\n",
              "      };\n",
              "\n",
              "      let percentDone = fileData.byteLength === 0 ?\n",
              "          100 :\n",
              "          Math.round((position / fileData.byteLength) * 100);\n",
              "      percent.textContent = `${percentDone}% done`;\n",
              "\n",
              "    } while (position < fileData.byteLength);\n",
              "  }\n",
              "\n",
              "  // All done.\n",
              "  yield {\n",
              "    response: {\n",
              "      action: 'complete',\n",
              "    }\n",
              "  };\n",
              "}\n",
              "\n",
              "scope.google = scope.google || {};\n",
              "scope.google.colab = scope.google.colab || {};\n",
              "scope.google.colab._files = {\n",
              "  _uploadFiles,\n",
              "  _uploadFilesContinue,\n",
              "};\n",
              "})(self);\n",
              "</script> "
            ]
          },
          "metadata": {}
        },
        {
          "output_type": "stream",
          "name": "stdout",
          "text": [
            "Saving nomes_aleatorios.txt to nomes_aleatorios.txt\n"
          ]
        }
      ]
    },
    {
      "cell_type": "markdown",
      "source": [
        "### Criar a Spark Session"
      ],
      "metadata": {
        "id": "IjaxJO8XRgxh"
      }
    },
    {
      "cell_type": "code",
      "source": [
        "spark = SparkSession.builder.master(\"local[*]\").appName(\"Exercicio Intro\").getOrCreate()"
      ],
      "metadata": {
        "id": "HSGHgWFkRjzS"
      },
      "execution_count": 6,
      "outputs": []
    },
    {
      "cell_type": "markdown",
      "source": [
        "### Ler o conteúdo do arquivo \"nomes_aleatorios.txt\" e exibir as cinco primeiras linhas em um formato tabular"
      ],
      "metadata": {
        "id": "g1hjESB7T_Wh"
      }
    },
    {
      "cell_type": "code",
      "source": [
        "df_nomes = spark.read.text(list(uploaded.keys())[0])\n",
        "df_nomes = df_nomes.withColumn(\"Nomes\", split(col(\"value\"), \"\\n\").getItem(0))\n",
        "df_nomes = df_nomes.drop(\"value\")\n",
        "df_nomes.show(5)"
      ],
      "metadata": {
        "colab": {
          "base_uri": "https://localhost:8080/"
        },
        "id": "Rw31GhmpUL_O",
        "outputId": "4aed6e9d-690c-4bc2-afca-51dd78cc6cd7"
      },
      "execution_count": 7,
      "outputs": [
        {
          "output_type": "stream",
          "name": "stdout",
          "text": [
            "+----------------+\n",
            "|           Nomes|\n",
            "+----------------+\n",
            "|  Frances Bennet|\n",
            "|   Jamie Russell|\n",
            "|  Edward Kistler|\n",
            "|   Sheila Maurer|\n",
            "|Donald Golightly|\n",
            "+----------------+\n",
            "only showing top 5 rows\n",
            "\n"
          ]
        }
      ]
    },
    {
      "cell_type": "markdown",
      "source": [
        "###  Visualizar o Schema."
      ],
      "metadata": {
        "id": "pqkgL4HaUaiY"
      }
    },
    {
      "cell_type": "code",
      "source": [
        "df_nomes.printSchema()"
      ],
      "metadata": {
        "colab": {
          "base_uri": "https://localhost:8080/"
        },
        "id": "qvJruXsuVLHj",
        "outputId": "8d0081a3-931b-4953-dd74-ff6b49ab70c0"
      },
      "execution_count": 8,
      "outputs": [
        {
          "output_type": "stream",
          "name": "stdout",
          "text": [
            "root\n",
            " |-- Nomes: string (nullable = true)\n",
            "\n"
          ]
        }
      ]
    },
    {
      "cell_type": "markdown",
      "source": [
        "### Adicionar nova coluna chamada Escolaridade e atribuir para cada linha um dos três valores de forma aleatória: Fundamental, Medio ou Superior"
      ],
      "metadata": {
        "id": "i6lg-6a5VZzQ"
      }
    },
    {
      "cell_type": "code",
      "source": [
        "df_nomes = df_nomes.withColumn(\"Escolaridade\", when(rand() < 1/3, \"Fundamental\")\n",
        "                           .when(rand() < 2/3, \"Medio\")\n",
        "                           .otherwise(\"Superior\"))"
      ],
      "metadata": {
        "id": "wjMoHSRFWYqx"
      },
      "execution_count": 9,
      "outputs": []
    },
    {
      "cell_type": "markdown",
      "source": [
        "### Exibe as primeiras 10 linhas do DataFrame 'df_nomes'com a coluna Escolaridade adicionada"
      ],
      "metadata": {
        "id": "X-m2IlA_Yv67"
      }
    },
    {
      "cell_type": "code",
      "source": [
        "df_nomes.show(10)"
      ],
      "metadata": {
        "colab": {
          "base_uri": "https://localhost:8080/"
        },
        "id": "IY0ltZU-YeRX",
        "outputId": "817ca4a2-3a5c-4b9e-b247-7ccad124974d"
      },
      "execution_count": 10,
      "outputs": [
        {
          "output_type": "stream",
          "name": "stdout",
          "text": [
            "+-----------------+------------+\n",
            "|            Nomes|Escolaridade|\n",
            "+-----------------+------------+\n",
            "|   Frances Bennet| Fundamental|\n",
            "|    Jamie Russell|    Superior|\n",
            "|   Edward Kistler|       Medio|\n",
            "|    Sheila Maurer| Fundamental|\n",
            "| Donald Golightly| Fundamental|\n",
            "|       David Gray|       Medio|\n",
            "|      Joy Bennett|    Superior|\n",
            "|      Paul Kriese| Fundamental|\n",
            "|Berniece Ornellas|       Medio|\n",
            "|    Brian Farrell|       Medio|\n",
            "+-----------------+------------+\n",
            "only showing top 10 rows\n",
            "\n"
          ]
        }
      ]
    },
    {
      "cell_type": "markdown",
      "source": [
        "### Criar uma lista de países a america do sul"
      ],
      "metadata": {
        "id": "JFOaNKu_Y9ag"
      }
    },
    {
      "cell_type": "code",
      "source": [
        "paises_am_sul = [\"Brasil\", \"Argentina\", \"Colômbia\", \"Peru\", \"Venezuela\", \"Chile\", \"Equador\", \"Bolívia\", \"Paraguai\", \"Uruguai\", \"Guiana\", \"Suriname\", \"Guiana Francesa\"]\n"
      ],
      "metadata": {
        "id": "ARBhWICJZcMu"
      },
      "execution_count": 12,
      "outputs": []
    },
    {
      "cell_type": "code",
      "source": [
        "df_nomes = df_nomes.withColumn(\"Pais\", when(rand() < 1/13, paises_am_sul[0])\n",
        "                                    .when(rand() < 2/13, paises_am_sul[1])\n",
        "                                    .when(rand() < 3/13, paises_am_sul[2])\n",
        "                                    .when(rand() < 4/13, paises_am_sul[3])\n",
        "                                    .when(rand() < 5/13, paises_am_sul[4])\n",
        "                                    .when(rand() < 6/13, paises_am_sul[5])\n",
        "                                    .when(rand() < 7/13, paises_am_sul[6])\n",
        "                                    .when(rand() < 8/13, paises_am_sul[7])\n",
        "                                    .when(rand() < 9/13, paises_am_sul[8])\n",
        "                                    .when(rand() < 10/13, paises_am_sul[9])\n",
        "                                    .when(rand() < 11/13, paises_am_sul[10])\n",
        "                                    .when(rand() < 12/13, paises_am_sul[11])\n",
        "                                    .otherwise(paises_am_sul[12]))"
      ],
      "metadata": {
        "id": "jiy95cMFaphL"
      },
      "execution_count": 13,
      "outputs": []
    },
    {
      "cell_type": "code",
      "source": [
        "df_nomes.show(10)"
      ],
      "metadata": {
        "colab": {
          "base_uri": "https://localhost:8080/"
        },
        "id": "IsqsfYvNar8v",
        "outputId": "350dbd74-e160-47fa-fd5f-43fbbe52c7e2"
      },
      "execution_count": 14,
      "outputs": [
        {
          "output_type": "stream",
          "name": "stdout",
          "text": [
            "+-----------------+------------+---------+\n",
            "|            Nomes|Escolaridade|     Pais|\n",
            "+-----------------+------------+---------+\n",
            "|   Frances Bennet| Fundamental| Colômbia|\n",
            "|    Jamie Russell|    Superior|     Peru|\n",
            "|   Edward Kistler|       Medio|Argentina|\n",
            "|    Sheila Maurer| Fundamental|     Peru|\n",
            "| Donald Golightly| Fundamental| Paraguai|\n",
            "|       David Gray|       Medio|Argentina|\n",
            "|      Joy Bennett|    Superior|  Equador|\n",
            "|      Paul Kriese| Fundamental| Colômbia|\n",
            "|Berniece Ornellas|       Medio|Argentina|\n",
            "|    Brian Farrell|       Medio|  Equador|\n",
            "+-----------------+------------+---------+\n",
            "only showing top 10 rows\n",
            "\n"
          ]
        }
      ]
    },
    {
      "cell_type": "markdown",
      "source": [
        "### Adicionar nova coluna chamada AnoNascimento e atribuir para cada linha um valor de ano entre 1945 e 2010, de forma aleatória"
      ],
      "metadata": {
        "id": "nV6J0M9tbfnt"
      }
    },
    {
      "cell_type": "code",
      "source": [
        "df_nomes = df_nomes.withColumn(\"AnoNascimento\", (rand()*(2010-1945)+1945).cast(\"integer\"))"
      ],
      "metadata": {
        "id": "o1_LPP7NbydJ"
      },
      "execution_count": 15,
      "outputs": []
    },
    {
      "cell_type": "markdown",
      "source": [
        "### Exibir as 10 primeiras linhas do DataFrame 'df_nomes' com a coluna AnoNascimento adicionada"
      ],
      "metadata": {
        "id": "nJTNIxk8cBQS"
      }
    },
    {
      "cell_type": "code",
      "source": [
        "df_nomes.show(10)"
      ],
      "metadata": {
        "colab": {
          "base_uri": "https://localhost:8080/"
        },
        "id": "EVxJCdc2cPJJ",
        "outputId": "932f9270-44fe-4c37-cf55-26a29b7f8dcb"
      },
      "execution_count": 17,
      "outputs": [
        {
          "output_type": "stream",
          "name": "stdout",
          "text": [
            "+-----------------+------------+---------+-------------+\n",
            "|            Nomes|Escolaridade|     Pais|AnoNascimento|\n",
            "+-----------------+------------+---------+-------------+\n",
            "|   Frances Bennet| Fundamental| Colômbia|         1960|\n",
            "|    Jamie Russell|    Superior|     Peru|         1972|\n",
            "|   Edward Kistler|       Medio|Argentina|         2005|\n",
            "|    Sheila Maurer| Fundamental|     Peru|         1976|\n",
            "| Donald Golightly| Fundamental| Paraguai|         1958|\n",
            "|       David Gray|       Medio|Argentina|         1979|\n",
            "|      Joy Bennett|    Superior|  Equador|         1996|\n",
            "|      Paul Kriese| Fundamental| Colômbia|         1950|\n",
            "|Berniece Ornellas|       Medio|Argentina|         1964|\n",
            "|    Brian Farrell|       Medio|  Equador|         1987|\n",
            "+-----------------+------------+---------+-------------+\n",
            "only showing top 10 rows\n",
            "\n"
          ]
        }
      ]
    },
    {
      "cell_type": "markdown",
      "source": [
        "### Selecionar as pessoas que nasceram neste século, usando o método select do dataframe 'df_nomes'"
      ],
      "metadata": {
        "id": "Nh7Bh9WJdtsV"
      }
    },
    {
      "cell_type": "code",
      "source": [
        "df_select = df_nomes.filter(df_nomes[\"AnoNascimento\"] >= 2001)\n"
      ],
      "metadata": {
        "id": "u6Sf51fYfL0Y"
      },
      "execution_count": 20,
      "outputs": []
    },
    {
      "cell_type": "markdown",
      "source": [
        "### Exibir 10 nomes de pessoas que nasceram neste século,  usando o método select do dataframe 'df_nomes'"
      ],
      "metadata": {
        "id": "Kq7GQoDXgZ2V"
      }
    },
    {
      "cell_type": "code",
      "source": [
        "df_select.show(10)"
      ],
      "metadata": {
        "colab": {
          "base_uri": "https://localhost:8080/"
        },
        "id": "t23xlcbjgr_8",
        "outputId": "d88e0792-c163-40f4-924e-136326a5ea3b"
      },
      "execution_count": 21,
      "outputs": [
        {
          "output_type": "stream",
          "name": "stdout",
          "text": [
            "+---------------+------------+---------+-------------+\n",
            "|          Nomes|Escolaridade|     Pais|AnoNascimento|\n",
            "+---------------+------------+---------+-------------+\n",
            "| Edward Kistler|       Medio|Argentina|         2005|\n",
            "| Lorenzo Woodis| Fundamental|     Peru|         2001|\n",
            "|     Anita Ross|       Medio|Venezuela|         2005|\n",
            "| Rosie Lovelady|       Medio|  Equador|         2006|\n",
            "| Ashley Trosper|       Medio|Argentina|         2001|\n",
            "|Suzanne Bullard|    Superior|  Bolívia|         2005|\n",
            "|    Shelia Ceja|       Medio|  Equador|         2006|\n",
            "|    Andrew Orem|    Superior|     Peru|         2008|\n",
            "|    Leola Hicks|       Medio|     Peru|         2004|\n",
            "|   Barbra Young| Fundamental|     Peru|         2007|\n",
            "+---------------+------------+---------+-------------+\n",
            "only showing top 10 rows\n",
            "\n"
          ]
        }
      ]
    },
    {
      "cell_type": "markdown",
      "source": [
        "### Criar uma tabela temporária chamada 'pessoas'"
      ],
      "metadata": {
        "id": "WxzaTuHJgzN6"
      }
    },
    {
      "cell_type": "code",
      "source": [
        "df_nomes.createOrReplaceTempView (\"pessoas\")"
      ],
      "metadata": {
        "id": "ix6gGAO1h1OS"
      },
      "execution_count": 26,
      "outputs": []
    },
    {
      "cell_type": "markdown",
      "source": [
        "### Selecionar e exibir 10 nomes de pessoas que nasceram neste século, usando Spark SQL e uma tabela temporária ('pessoas') que criamos"
      ],
      "metadata": {
        "id": "hs9z7MIgi5hl"
      }
    },
    {
      "cell_type": "code",
      "source": [
        "spark.sql(\"SELECT * FROM pessoas WHERE AnoNascimento > 2000\").show(10)"
      ],
      "metadata": {
        "colab": {
          "base_uri": "https://localhost:8080/"
        },
        "id": "Hnmuyhx1jbCZ",
        "outputId": "76162452-8664-43a9-a293-66c73cb1144d"
      },
      "execution_count": 27,
      "outputs": [
        {
          "output_type": "stream",
          "name": "stdout",
          "text": [
            "+---------------+------------+---------+-------------+\n",
            "|          Nomes|Escolaridade|     Pais|AnoNascimento|\n",
            "+---------------+------------+---------+-------------+\n",
            "| Edward Kistler|       Medio|Argentina|         2005|\n",
            "| Lorenzo Woodis| Fundamental|     Peru|         2001|\n",
            "|     Anita Ross|       Medio|Venezuela|         2005|\n",
            "| Rosie Lovelady|       Medio|  Equador|         2006|\n",
            "| Ashley Trosper|       Medio|Argentina|         2001|\n",
            "|Suzanne Bullard|    Superior|  Bolívia|         2005|\n",
            "|    Shelia Ceja|       Medio|  Equador|         2006|\n",
            "|    Andrew Orem|    Superior|     Peru|         2008|\n",
            "|    Leola Hicks|       Medio|     Peru|         2004|\n",
            "|   Barbra Young| Fundamental|     Peru|         2007|\n",
            "+---------------+------------+---------+-------------+\n",
            "only showing top 10 rows\n",
            "\n"
          ]
        }
      ]
    },
    {
      "cell_type": "markdown",
      "source": [
        "###  Contar o número de pessoas que são da geração Millennials (nascidos entre 1980 e 1994) no Dataset, Usando o método select do Dataframe 'df_nomes'"
      ],
      "metadata": {
        "id": "eqTHAhqrlq80"
      }
    },
    {
      "cell_type": "code",
      "source": [
        "df_nomes = df_nomes.withColumn(\"AnoNascimento\", to_date(df_nomes[\"AnoNascimento\"].cast(\"string\"), \"yyyy\"))"
      ],
      "metadata": {
        "id": "cHnyb0aFm1Ln"
      },
      "execution_count": 28,
      "outputs": []
    },
    {
      "cell_type": "code",
      "source": [
        "df_millennials = df_nomes.select(\"Nomes\").filter(year(\"AnoNascimento\").between(1980, 1994))"
      ],
      "metadata": {
        "id": "s9DaXN1knBx3"
      },
      "execution_count": 29,
      "outputs": []
    },
    {
      "cell_type": "code",
      "source": [
        "count_millennials = df_millennials.count()"
      ],
      "metadata": {
        "id": "6C38RGB6nGKD"
      },
      "execution_count": 30,
      "outputs": []
    },
    {
      "cell_type": "code",
      "source": [
        "print(\"Número de pessoas na geração Millennials:\", count_millennials)"
      ],
      "metadata": {
        "colab": {
          "base_uri": "https://localhost:8080/"
        },
        "id": "5-wP3ijNnN_C",
        "outputId": "3cd49ac9-8e6c-4205-a8f6-ef4be42da0bf"
      },
      "execution_count": 31,
      "outputs": [
        {
          "output_type": "stream",
          "name": "stdout",
          "text": [
            "Número de pessoas na geração Millennials: 2308693\n"
          ]
        }
      ]
    },
    {
      "cell_type": "markdown",
      "source": [
        "###  Contar o número de pessoas que são da geração Millennials (nascidos entre 1980 e 1994) no Dataset, utilizando Spark SQL"
      ],
      "metadata": {
        "id": "Vqu6_yAinUoO"
      }
    },
    {
      "cell_type": "code",
      "source": [
        "df_nomes.createOrReplaceTempView(\"pessoas_millennials\")"
      ],
      "metadata": {
        "id": "g_1Wu54QnqkA"
      },
      "execution_count": 34,
      "outputs": []
    },
    {
      "cell_type": "code",
      "source": [
        "query = \"\"\"\n",
        "    SELECT COUNT(*) AS count_millennials\n",
        "    FROM pessoas_millennials\n",
        "    WHERE YEAR(AnoNascimento) BETWEEN 1980 AND 1994\n",
        "\"\"\""
      ],
      "metadata": {
        "id": "BDuWIah0odq9"
      },
      "execution_count": 37,
      "outputs": []
    },
    {
      "cell_type": "code",
      "source": [
        "result = spark.sql(query)"
      ],
      "metadata": {
        "id": "-IaTM5cgoi3e"
      },
      "execution_count": 38,
      "outputs": []
    },
    {
      "cell_type": "code",
      "source": [
        "count_millennials = result.first()[0]"
      ],
      "metadata": {
        "id": "iW7aExHBo8mj"
      },
      "execution_count": 39,
      "outputs": []
    },
    {
      "cell_type": "code",
      "source": [
        "print(\"Número de pessoas na geração Millennials:\", count_millennials)"
      ],
      "metadata": {
        "colab": {
          "base_uri": "https://localhost:8080/"
        },
        "id": "iZiXSABbpIsq",
        "outputId": "cc896d74-a2a7-4329-fae7-bdfdcdd51a1b"
      },
      "execution_count": 40,
      "outputs": [
        {
          "output_type": "stream",
          "name": "stdout",
          "text": [
            "Número de pessoas na geração Millennials: 2308693\n"
          ]
        }
      ]
    },
    {
      "cell_type": "markdown",
      "source": [
        "### Usando Spark SQL, obter a quantidade de pessoas de cada país para uma das gerações abaixo. Mostrar todas as linhas em ordem crescente de Pais, Geração e Quantidade\n",
        "  - Baby Boomer - nascidos entre 1944 e 1964\n",
        "  - Geração X - nascidos entre 1965 e 1979\n",
        "  - Millennials (Geração Y) - nascidos entre 1980 e 1994\n",
        "  - Geração Z - nascidos entre 1995 e 2015"
      ],
      "metadata": {
        "id": "OWFLQyJgpQrZ"
      }
    },
    {
      "cell_type": "code",
      "source": [
        "df_nomes.createOrReplaceTempView(\"geracoes\")"
      ],
      "metadata": {
        "id": "IRU0vHTyqwGs"
      },
      "execution_count": 41,
      "outputs": []
    },
    {
      "cell_type": "code",
      "source": [
        "query = \"\"\"\n",
        "    SELECT Pais,\n",
        "           CASE\n",
        "               WHEN YEAR(AnoNascimento) BETWEEN 1944 AND 1964 THEN 'Baby Boomers'\n",
        "               WHEN YEAR(AnoNascimento) BETWEEN 1965 AND 1979 THEN 'Geracao X'\n",
        "               WHEN YEAR(AnoNascimento) BETWEEN 1980 AND 1994 THEN 'Millennials'\n",
        "               WHEN YEAR(AnoNascimento) BETWEEN 1995 AND 2015 THEN 'Geracao Z'\n",
        "           END AS Geracao,\n",
        "           COUNT(*) AS Quantidade\n",
        "    FROM geracoes\n",
        "    GROUP BY Pais, Geracao\n",
        "    ORDER BY Pais, Geracao\n",
        "\"\"\""
      ],
      "metadata": {
        "id": "K3P_0e8tq8bT"
      },
      "execution_count": 43,
      "outputs": []
    },
    {
      "cell_type": "code",
      "source": [
        "df_result = spark.sql(query)"
      ],
      "metadata": {
        "id": "Wndasb_zrSov"
      },
      "execution_count": 44,
      "outputs": []
    },
    {
      "cell_type": "code",
      "source": [
        "df_result.show(df_result.count(), truncate=False)"
      ],
      "metadata": {
        "colab": {
          "base_uri": "https://localhost:8080/"
        },
        "id": "1wCkAlnwrW3i",
        "outputId": "7cddbbc0-1bc0-42e5-8807-0d1cac77447d"
      },
      "execution_count": 45,
      "outputs": [
        {
          "output_type": "stream",
          "name": "stdout",
          "text": [
            "+---------------+------------+----------+\n",
            "|Pais           |Geracao     |Quantidade|\n",
            "+---------------+------------+----------+\n",
            "|Argentina      |Baby Boomers|436932    |\n",
            "|Argentina      |Geracao X   |328645    |\n",
            "|Argentina      |Geracao Z   |326622    |\n",
            "|Argentina      |Millennials |328182    |\n",
            "|Bolívia        |Baby Boomers|120044    |\n",
            "|Bolívia        |Geracao X   |90212     |\n",
            "|Bolívia        |Geracao Z   |90476     |\n",
            "|Bolívia        |Millennials |90511     |\n",
            "|Brasil         |Baby Boomers|237172    |\n",
            "|Brasil         |Geracao X   |177764    |\n",
            "|Brasil         |Geracao Z   |177457    |\n",
            "|Brasil         |Millennials |178060    |\n",
            "|Chile          |Baby Boomers|364779    |\n",
            "|Chile          |Geracao X   |272476    |\n",
            "|Chile          |Geracao Z   |272255    |\n",
            "|Chile          |Millennials |273432    |\n",
            "|Colômbia       |Baby Boomers|555396    |\n",
            "|Colômbia       |Geracao X   |415366    |\n",
            "|Colômbia       |Geracao Z   |415060    |\n",
            "|Colômbia       |Millennials |415369    |\n",
            "|Equador        |Baby Boomers|227970    |\n",
            "|Equador        |Geracao X   |170712    |\n",
            "|Equador        |Geracao Z   |171435    |\n",
            "|Equador        |Millennials |171096    |\n",
            "|Guiana         |Baby Boomers|4453      |\n",
            "|Guiana         |Geracao X   |3490      |\n",
            "|Guiana         |Geracao Z   |3354      |\n",
            "|Guiana         |Millennials |3443      |\n",
            "|Guiana Francesa|Baby Boomers|71        |\n",
            "|Guiana Francesa|Geracao X   |48        |\n",
            "|Guiana Francesa|Geracao Z   |47        |\n",
            "|Guiana Francesa|Millennials |59        |\n",
            "|Paraguai       |Baby Boomers|52053     |\n",
            "|Paraguai       |Geracao X   |39106     |\n",
            "|Paraguai       |Geracao Z   |39196     |\n",
            "|Paraguai       |Millennials |38956     |\n",
            "|Peru           |Baby Boomers|568691    |\n",
            "|Peru           |Geracao X   |426577    |\n",
            "|Peru           |Geracao Z   |427817    |\n",
            "|Peru           |Millennials |426543    |\n",
            "|Suriname       |Baby Boomers|747       |\n",
            "|Suriname       |Geracao X   |522       |\n",
            "|Suriname       |Geracao Z   |551       |\n",
            "|Suriname       |Millennials |563       |\n",
            "|Uruguai        |Baby Boomers|17522     |\n",
            "|Uruguai        |Geracao X   |13371     |\n",
            "|Uruguai        |Geracao Z   |13387     |\n",
            "|Uruguai        |Millennials |13262     |\n",
            "|Venezuela      |Baby Boomers|491777    |\n",
            "|Venezuela      |Geracao X   |368282    |\n",
            "|Venezuela      |Geracao Z   |369472    |\n",
            "|Venezuela      |Millennials |369217    |\n",
            "+---------------+------------+----------+\n",
            "\n"
          ]
        }
      ]
    }
  ]
}