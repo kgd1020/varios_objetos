{
  "nbformat": 4,
  "nbformat_minor": 0,
  "metadata": {
    "colab": {
      "provenance": [],
      "include_colab_link": true
    },
    "kernelspec": {
      "name": "python3",
      "display_name": "Python 3"
    },
    "language_info": {
      "name": "python"
    }
  },
  "cells": [
    {
      "cell_type": "markdown",
      "metadata": {
        "id": "view-in-github",
        "colab_type": "text"
      },
      "source": [
        "<a href=\"https://colab.research.google.com/github/kgd1020/varios_objetos/blob/main/estagio_sprint_8_tarefa_1.ipynb\" target=\"_parent\"><img src=\"https://colab.research.google.com/assets/colab-badge.svg\" alt=\"Open In Colab\"/></a>"
      ]
    },
    {
      "cell_type": "markdown",
      "source": [
        "### ***ESTÁGIO SPRINT-8 TAREFA-1***"
      ],
      "metadata": {
        "id": "lMfk0Ru_3cf1"
      }
    },
    {
      "cell_type": "markdown",
      "source": [
        "### Importar bibliotecas do Python"
      ],
      "metadata": {
        "id": "HAVKXBPt3z2T"
      }
    },
    {
      "cell_type": "code",
      "source": [
        "import requests\n",
        "import pandas as pd\n",
        "from IPython.display import display"
      ],
      "metadata": {
        "id": "1F_EsiWM4KAj"
      },
      "execution_count": null,
      "outputs": []
    },
    {
      "cell_type": "markdown",
      "source": [
        "### Colocar a chave da API, fazer a solicitação à API e converter o resultado para o formato JSON"
      ],
      "metadata": {
        "id": "ZqufFIxu4P4W"
      }
    },
    {
      "cell_type": "code",
      "source": [
        "api_key = 'a6a0bff82f76a1d27a7f41e8b71b56db'\n",
        "url = f\"https://api.themoviedb.org/3/movie/top_rated?api_key={api_key}&language=pt-BR\"\n",
        "response = requests.get(url)  # Faz uma solicitação GET à URL da API\n",
        "data = response.json()"
      ],
      "metadata": {
        "id": "J916UiZg4smL"
      },
      "execution_count": null,
      "outputs": []
    },
    {
      "cell_type": "markdown",
      "source": [
        "### Criar uma lista vazia para armazenar os detalhes dos filmes"
      ],
      "metadata": {
        "id": "_DUBkCDu5Osu"
      }
    },
    {
      "cell_type": "code",
      "source": [
        "filmes = []"
      ],
      "metadata": {
        "id": "itSKaJcm5aMX"
      },
      "execution_count": null,
      "outputs": []
    },
    {
      "cell_type": "markdown",
      "source": [
        "### Iterar sobre os filmes nos resultados obtidos, criar um dicionário com os detalhes do filme atual e exibir o DataFrame"
      ],
      "metadata": {
        "id": "miztNPXz5e-e"
      }
    },
    {
      "cell_type": "code",
      "source": [
        "for movie in data['results']:\n",
        "  df = {'Titulo': movie['title'],\n",
        "  'Data de lançamento': movie['release_date'],\n",
        "  'Visão geral': movie['overview'],\n",
        "  'Votos': movie['vote_count'],\n",
        "  'Média de votos:': movie['vote_average']}\n",
        "\n",
        "  filmes.append(df)\n",
        "\n",
        "df = pd.DataFrame(filmes)\n",
        "display(df)"
      ],
      "metadata": {
        "colab": {
          "base_uri": "https://localhost:8080/",
          "height": 424
        },
        "id": "1L2kzdIq6zCs",
        "outputId": "e9f4a2cb-bfce-4e07-b27d-68fcc56a7023"
      },
      "execution_count": null,
      "outputs": [
        {
          "output_type": "display_data",
          "data": {
            "text/plain": [
              "                                  Titulo Data de lançamento  \\\n",
              "0                      O Poderoso Chefão         1972-03-14   \n",
              "1                  Um Sonho de Liberdade         1994-09-23   \n",
              "2   Homem-Aranha: Através do Aranhaverso         2023-05-31   \n",
              "3            O Poderoso Chefão: Parte II         1974-12-20   \n",
              "4                   A Lista de Schindler         1993-12-15   \n",
              "..                                   ...                ...   \n",
              "75               Três Homens em Conflito         1966-12-23   \n",
              "76  O Senhor dos Anéis: O Retorno do Rei         2003-12-01   \n",
              "77                  Os Bons Companheiros         1990-09-12   \n",
              "78             Primal: Tales of Savagery         2019-11-21   \n",
              "79                       Cinema Paradiso         1988-11-17   \n",
              "\n",
              "                                          Visão geral  Votos  Média de votos:  \\\n",
              "0   Em 1945, Don Corleone é o chefe de uma mafiosa...  18121              8.7   \n",
              "1   Em 1946, Andy Dufresne, um banqueiro jovem e b...  23993              8.7   \n",
              "2   Miles Morales retorna para o próximo capítulo ...   1614              8.7   \n",
              "3   Após a máfia matar sua família, o jovem Vito f...  10936              8.6   \n",
              "4   O alemão Oskar Schindler viu na mão de obra ju...  14188              8.6   \n",
              "..                                                ...    ...              ...   \n",
              "75  Durante o auge da Guerra Civil, um misterioso ...   7470              8.5   \n",
              "76  O confronto final entre as forças do bem e do ...  21746              8.5   \n",
              "77  Um jovem cresce na máfia e trabalha arduamente...  11363              8.5   \n",
              "78                                                       267              8.5   \n",
              "79  Um diretor de cinema lembra como, em sua infân...   3793              8.5   \n",
              "\n",
              "   Titulo           Titulo  \n",
              "0          NaN         NaN  \n",
              "1          NaN         NaN  \n",
              "2          NaN         NaN  \n",
              "3          NaN         NaN  \n",
              "4          NaN         NaN  \n",
              "..         ...         ...  \n",
              "75         NaN         NaN  \n",
              "76         NaN         NaN  \n",
              "77         NaN         NaN  \n",
              "78         NaN         NaN  \n",
              "79         NaN         NaN  \n",
              "\n",
              "[80 rows x 7 columns]"
            ],
            "text/html": [
              "\n",
              "  <div id=\"df-089a9a23-7dcb-4e80-8ec9-4ac4f59ef3c5\">\n",
              "    <div class=\"colab-df-container\">\n",
              "      <div>\n",
              "<style scoped>\n",
              "    .dataframe tbody tr th:only-of-type {\n",
              "        vertical-align: middle;\n",
              "    }\n",
              "\n",
              "    .dataframe tbody tr th {\n",
              "        vertical-align: top;\n",
              "    }\n",
              "\n",
              "    .dataframe thead th {\n",
              "        text-align: right;\n",
              "    }\n",
              "</style>\n",
              "<table border=\"1\" class=\"dataframe\">\n",
              "  <thead>\n",
              "    <tr style=\"text-align: right;\">\n",
              "      <th></th>\n",
              "      <th>Titulo</th>\n",
              "      <th>Data de lançamento</th>\n",
              "      <th>Visão geral</th>\n",
              "      <th>Votos</th>\n",
              "      <th>Média de votos:</th>\n",
              "      <th>Titulo</th>\n",
              "      <th>Titulo</th>\n",
              "    </tr>\n",
              "  </thead>\n",
              "  <tbody>\n",
              "    <tr>\n",
              "      <th>0</th>\n",
              "      <td>O Poderoso Chefão</td>\n",
              "      <td>1972-03-14</td>\n",
              "      <td>Em 1945, Don Corleone é o chefe de uma mafiosa...</td>\n",
              "      <td>18121</td>\n",
              "      <td>8.7</td>\n",
              "      <td>NaN</td>\n",
              "      <td>NaN</td>\n",
              "    </tr>\n",
              "    <tr>\n",
              "      <th>1</th>\n",
              "      <td>Um Sonho de Liberdade</td>\n",
              "      <td>1994-09-23</td>\n",
              "      <td>Em 1946, Andy Dufresne, um banqueiro jovem e b...</td>\n",
              "      <td>23993</td>\n",
              "      <td>8.7</td>\n",
              "      <td>NaN</td>\n",
              "      <td>NaN</td>\n",
              "    </tr>\n",
              "    <tr>\n",
              "      <th>2</th>\n",
              "      <td>Homem-Aranha: Através do Aranhaverso</td>\n",
              "      <td>2023-05-31</td>\n",
              "      <td>Miles Morales retorna para o próximo capítulo ...</td>\n",
              "      <td>1614</td>\n",
              "      <td>8.7</td>\n",
              "      <td>NaN</td>\n",
              "      <td>NaN</td>\n",
              "    </tr>\n",
              "    <tr>\n",
              "      <th>3</th>\n",
              "      <td>O Poderoso Chefão: Parte II</td>\n",
              "      <td>1974-12-20</td>\n",
              "      <td>Após a máfia matar sua família, o jovem Vito f...</td>\n",
              "      <td>10936</td>\n",
              "      <td>8.6</td>\n",
              "      <td>NaN</td>\n",
              "      <td>NaN</td>\n",
              "    </tr>\n",
              "    <tr>\n",
              "      <th>4</th>\n",
              "      <td>A Lista de Schindler</td>\n",
              "      <td>1993-12-15</td>\n",
              "      <td>O alemão Oskar Schindler viu na mão de obra ju...</td>\n",
              "      <td>14188</td>\n",
              "      <td>8.6</td>\n",
              "      <td>NaN</td>\n",
              "      <td>NaN</td>\n",
              "    </tr>\n",
              "    <tr>\n",
              "      <th>...</th>\n",
              "      <td>...</td>\n",
              "      <td>...</td>\n",
              "      <td>...</td>\n",
              "      <td>...</td>\n",
              "      <td>...</td>\n",
              "      <td>...</td>\n",
              "      <td>...</td>\n",
              "    </tr>\n",
              "    <tr>\n",
              "      <th>75</th>\n",
              "      <td>Três Homens em Conflito</td>\n",
              "      <td>1966-12-23</td>\n",
              "      <td>Durante o auge da Guerra Civil, um misterioso ...</td>\n",
              "      <td>7470</td>\n",
              "      <td>8.5</td>\n",
              "      <td>NaN</td>\n",
              "      <td>NaN</td>\n",
              "    </tr>\n",
              "    <tr>\n",
              "      <th>76</th>\n",
              "      <td>O Senhor dos Anéis: O Retorno do Rei</td>\n",
              "      <td>2003-12-01</td>\n",
              "      <td>O confronto final entre as forças do bem e do ...</td>\n",
              "      <td>21746</td>\n",
              "      <td>8.5</td>\n",
              "      <td>NaN</td>\n",
              "      <td>NaN</td>\n",
              "    </tr>\n",
              "    <tr>\n",
              "      <th>77</th>\n",
              "      <td>Os Bons Companheiros</td>\n",
              "      <td>1990-09-12</td>\n",
              "      <td>Um jovem cresce na máfia e trabalha arduamente...</td>\n",
              "      <td>11363</td>\n",
              "      <td>8.5</td>\n",
              "      <td>NaN</td>\n",
              "      <td>NaN</td>\n",
              "    </tr>\n",
              "    <tr>\n",
              "      <th>78</th>\n",
              "      <td>Primal: Tales of Savagery</td>\n",
              "      <td>2019-11-21</td>\n",
              "      <td></td>\n",
              "      <td>267</td>\n",
              "      <td>8.5</td>\n",
              "      <td>NaN</td>\n",
              "      <td>NaN</td>\n",
              "    </tr>\n",
              "    <tr>\n",
              "      <th>79</th>\n",
              "      <td>Cinema Paradiso</td>\n",
              "      <td>1988-11-17</td>\n",
              "      <td>Um diretor de cinema lembra como, em sua infân...</td>\n",
              "      <td>3793</td>\n",
              "      <td>8.5</td>\n",
              "      <td>NaN</td>\n",
              "      <td>NaN</td>\n",
              "    </tr>\n",
              "  </tbody>\n",
              "</table>\n",
              "<p>80 rows × 7 columns</p>\n",
              "</div>\n",
              "      <button class=\"colab-df-convert\" onclick=\"convertToInteractive('df-089a9a23-7dcb-4e80-8ec9-4ac4f59ef3c5')\"\n",
              "              title=\"Convert this dataframe to an interactive table.\"\n",
              "              style=\"display:none;\">\n",
              "        \n",
              "  <svg xmlns=\"http://www.w3.org/2000/svg\" height=\"24px\"viewBox=\"0 0 24 24\"\n",
              "       width=\"24px\">\n",
              "    <path d=\"M0 0h24v24H0V0z\" fill=\"none\"/>\n",
              "    <path d=\"M18.56 5.44l.94 2.06.94-2.06 2.06-.94-2.06-.94-.94-2.06-.94 2.06-2.06.94zm-11 1L8.5 8.5l.94-2.06 2.06-.94-2.06-.94L8.5 2.5l-.94 2.06-2.06.94zm10 10l.94 2.06.94-2.06 2.06-.94-2.06-.94-.94-2.06-.94 2.06-2.06.94z\"/><path d=\"M17.41 7.96l-1.37-1.37c-.4-.4-.92-.59-1.43-.59-.52 0-1.04.2-1.43.59L10.3 9.45l-7.72 7.72c-.78.78-.78 2.05 0 2.83L4 21.41c.39.39.9.59 1.41.59.51 0 1.02-.2 1.41-.59l7.78-7.78 2.81-2.81c.8-.78.8-2.07 0-2.86zM5.41 20L4 18.59l7.72-7.72 1.47 1.35L5.41 20z\"/>\n",
              "  </svg>\n",
              "      </button>\n",
              "      \n",
              "  <style>\n",
              "    .colab-df-container {\n",
              "      display:flex;\n",
              "      flex-wrap:wrap;\n",
              "      gap: 12px;\n",
              "    }\n",
              "\n",
              "    .colab-df-convert {\n",
              "      background-color: #E8F0FE;\n",
              "      border: none;\n",
              "      border-radius: 50%;\n",
              "      cursor: pointer;\n",
              "      display: none;\n",
              "      fill: #1967D2;\n",
              "      height: 32px;\n",
              "      padding: 0 0 0 0;\n",
              "      width: 32px;\n",
              "    }\n",
              "\n",
              "    .colab-df-convert:hover {\n",
              "      background-color: #E2EBFA;\n",
              "      box-shadow: 0px 1px 2px rgba(60, 64, 67, 0.3), 0px 1px 3px 1px rgba(60, 64, 67, 0.15);\n",
              "      fill: #174EA6;\n",
              "    }\n",
              "\n",
              "    [theme=dark] .colab-df-convert {\n",
              "      background-color: #3B4455;\n",
              "      fill: #D2E3FC;\n",
              "    }\n",
              "\n",
              "    [theme=dark] .colab-df-convert:hover {\n",
              "      background-color: #434B5C;\n",
              "      box-shadow: 0px 1px 3px 1px rgba(0, 0, 0, 0.15);\n",
              "      filter: drop-shadow(0px 1px 2px rgba(0, 0, 0, 0.3));\n",
              "      fill: #FFFFFF;\n",
              "    }\n",
              "  </style>\n",
              "\n",
              "      <script>\n",
              "        const buttonEl =\n",
              "          document.querySelector('#df-089a9a23-7dcb-4e80-8ec9-4ac4f59ef3c5 button.colab-df-convert');\n",
              "        buttonEl.style.display =\n",
              "          google.colab.kernel.accessAllowed ? 'block' : 'none';\n",
              "\n",
              "        async function convertToInteractive(key) {\n",
              "          const element = document.querySelector('#df-089a9a23-7dcb-4e80-8ec9-4ac4f59ef3c5');\n",
              "          const dataTable =\n",
              "            await google.colab.kernel.invokeFunction('convertToInteractive',\n",
              "                                                     [key], {});\n",
              "          if (!dataTable) return;\n",
              "\n",
              "          const docLinkHtml = 'Like what you see? Visit the ' +\n",
              "            '<a target=\"_blank\" href=https://colab.research.google.com/notebooks/data_table.ipynb>data table notebook</a>'\n",
              "            + ' to learn more about interactive tables.';\n",
              "          element.innerHTML = '';\n",
              "          dataTable['output_type'] = 'display_data';\n",
              "          await google.colab.output.renderOutput(dataTable, element);\n",
              "          const docLink = document.createElement('div');\n",
              "          docLink.innerHTML = docLinkHtml;\n",
              "          element.appendChild(docLink);\n",
              "        }\n",
              "      </script>\n",
              "    </div>\n",
              "  </div>\n",
              "  "
            ]
          },
          "metadata": {}
        }
      ]
    }
  ]
}