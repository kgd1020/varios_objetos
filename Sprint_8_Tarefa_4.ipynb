{
  "nbformat": 4,
  "nbformat_minor": 0,
  "metadata": {
    "colab": {
      "provenance": [],
      "authorship_tag": "ABX9TyPYbVLW9RA/odmWcBWSHlCI"
    },
    "kernelspec": {
      "name": "python3",
      "display_name": "Python 3"
    },
    "language_info": {
      "name": "python"
    }
  },
  "cells": [
    {
      "cell_type": "code",
      "execution_count": 2,
      "metadata": {
        "colab": {
          "base_uri": "https://localhost:8080/",
          "height": 488
        },
        "id": "MX45ylExY1kD",
        "outputId": "1f0bf557-e978-4274-ee89-d3b9ba7c7159"
      },
      "outputs": [
        {
          "output_type": "stream",
          "name": "stdout",
          "text": [
            "Looking in indexes: https://pypi.org/simple, https://us-python.pkg.dev/colab-wheels/public/simple/\n",
            "Collecting pyspark\n",
            "  Downloading pyspark-3.4.1.tar.gz (310.8 MB)\n",
            "\u001b[2K     \u001b[90m━━━━━━━━━━━━━━━━━━━━━━━━━━━━━━━━━━━━━━━\u001b[0m \u001b[32m310.8/310.8 MB\u001b[0m \u001b[31m3.6 MB/s\u001b[0m eta \u001b[36m0:00:00\u001b[0m\n",
            "\u001b[?25h  Preparing metadata (setup.py) ... \u001b[?25l\u001b[?25hdone\n",
            "Requirement already satisfied: py4j==0.10.9.7 in /usr/local/lib/python3.10/dist-packages (from pyspark) (0.10.9.7)\n",
            "Building wheels for collected packages: pyspark\n",
            "  Building wheel for pyspark (setup.py) ... \u001b[?25l\u001b[?25hdone\n",
            "  Created wheel for pyspark: filename=pyspark-3.4.1-py2.py3-none-any.whl size=311285398 sha256=69927aedc6e285950448472dadbad70a5740d255dcd80a22481201d521314b41\n",
            "  Stored in directory: /root/.cache/pip/wheels/0d/77/a3/ff2f74cc9ab41f8f594dabf0579c2a7c6de920d584206e0834\n",
            "Successfully built pyspark\n",
            "Installing collected packages: pyspark\n",
            "Successfully installed pyspark-3.4.1\n"
          ]
        },
        {
          "output_type": "display_data",
          "data": {
            "text/plain": [
              "<IPython.core.display.HTML object>"
            ],
            "text/html": [
              "\n",
              "     <input type=\"file\" id=\"files-d68c921e-8409-4c30-9342-f43294df1b0e\" name=\"files[]\" multiple disabled\n",
              "        style=\"border:none\" />\n",
              "     <output id=\"result-d68c921e-8409-4c30-9342-f43294df1b0e\">\n",
              "      Upload widget is only available when the cell has been executed in the\n",
              "      current browser session. Please rerun this cell to enable.\n",
              "      </output>\n",
              "      <script>// Copyright 2017 Google LLC\n",
              "//\n",
              "// Licensed under the Apache License, Version 2.0 (the \"License\");\n",
              "// you may not use this file except in compliance with the License.\n",
              "// You may obtain a copy of the License at\n",
              "//\n",
              "//      http://www.apache.org/licenses/LICENSE-2.0\n",
              "//\n",
              "// Unless required by applicable law or agreed to in writing, software\n",
              "// distributed under the License is distributed on an \"AS IS\" BASIS,\n",
              "// WITHOUT WARRANTIES OR CONDITIONS OF ANY KIND, either express or implied.\n",
              "// See the License for the specific language governing permissions and\n",
              "// limitations under the License.\n",
              "\n",
              "/**\n",
              " * @fileoverview Helpers for google.colab Python module.\n",
              " */\n",
              "(function(scope) {\n",
              "function span(text, styleAttributes = {}) {\n",
              "  const element = document.createElement('span');\n",
              "  element.textContent = text;\n",
              "  for (const key of Object.keys(styleAttributes)) {\n",
              "    element.style[key] = styleAttributes[key];\n",
              "  }\n",
              "  return element;\n",
              "}\n",
              "\n",
              "// Max number of bytes which will be uploaded at a time.\n",
              "const MAX_PAYLOAD_SIZE = 100 * 1024;\n",
              "\n",
              "function _uploadFiles(inputId, outputId) {\n",
              "  const steps = uploadFilesStep(inputId, outputId);\n",
              "  const outputElement = document.getElementById(outputId);\n",
              "  // Cache steps on the outputElement to make it available for the next call\n",
              "  // to uploadFilesContinue from Python.\n",
              "  outputElement.steps = steps;\n",
              "\n",
              "  return _uploadFilesContinue(outputId);\n",
              "}\n",
              "\n",
              "// This is roughly an async generator (not supported in the browser yet),\n",
              "// where there are multiple asynchronous steps and the Python side is going\n",
              "// to poll for completion of each step.\n",
              "// This uses a Promise to block the python side on completion of each step,\n",
              "// then passes the result of the previous step as the input to the next step.\n",
              "function _uploadFilesContinue(outputId) {\n",
              "  const outputElement = document.getElementById(outputId);\n",
              "  const steps = outputElement.steps;\n",
              "\n",
              "  const next = steps.next(outputElement.lastPromiseValue);\n",
              "  return Promise.resolve(next.value.promise).then((value) => {\n",
              "    // Cache the last promise value to make it available to the next\n",
              "    // step of the generator.\n",
              "    outputElement.lastPromiseValue = value;\n",
              "    return next.value.response;\n",
              "  });\n",
              "}\n",
              "\n",
              "/**\n",
              " * Generator function which is called between each async step of the upload\n",
              " * process.\n",
              " * @param {string} inputId Element ID of the input file picker element.\n",
              " * @param {string} outputId Element ID of the output display.\n",
              " * @return {!Iterable<!Object>} Iterable of next steps.\n",
              " */\n",
              "function* uploadFilesStep(inputId, outputId) {\n",
              "  const inputElement = document.getElementById(inputId);\n",
              "  inputElement.disabled = false;\n",
              "\n",
              "  const outputElement = document.getElementById(outputId);\n",
              "  outputElement.innerHTML = '';\n",
              "\n",
              "  const pickedPromise = new Promise((resolve) => {\n",
              "    inputElement.addEventListener('change', (e) => {\n",
              "      resolve(e.target.files);\n",
              "    });\n",
              "  });\n",
              "\n",
              "  const cancel = document.createElement('button');\n",
              "  inputElement.parentElement.appendChild(cancel);\n",
              "  cancel.textContent = 'Cancel upload';\n",
              "  const cancelPromise = new Promise((resolve) => {\n",
              "    cancel.onclick = () => {\n",
              "      resolve(null);\n",
              "    };\n",
              "  });\n",
              "\n",
              "  // Wait for the user to pick the files.\n",
              "  const files = yield {\n",
              "    promise: Promise.race([pickedPromise, cancelPromise]),\n",
              "    response: {\n",
              "      action: 'starting',\n",
              "    }\n",
              "  };\n",
              "\n",
              "  cancel.remove();\n",
              "\n",
              "  // Disable the input element since further picks are not allowed.\n",
              "  inputElement.disabled = true;\n",
              "\n",
              "  if (!files) {\n",
              "    return {\n",
              "      response: {\n",
              "        action: 'complete',\n",
              "      }\n",
              "    };\n",
              "  }\n",
              "\n",
              "  for (const file of files) {\n",
              "    const li = document.createElement('li');\n",
              "    li.append(span(file.name, {fontWeight: 'bold'}));\n",
              "    li.append(span(\n",
              "        `(${file.type || 'n/a'}) - ${file.size} bytes, ` +\n",
              "        `last modified: ${\n",
              "            file.lastModifiedDate ? file.lastModifiedDate.toLocaleDateString() :\n",
              "                                    'n/a'} - `));\n",
              "    const percent = span('0% done');\n",
              "    li.appendChild(percent);\n",
              "\n",
              "    outputElement.appendChild(li);\n",
              "\n",
              "    const fileDataPromise = new Promise((resolve) => {\n",
              "      const reader = new FileReader();\n",
              "      reader.onload = (e) => {\n",
              "        resolve(e.target.result);\n",
              "      };\n",
              "      reader.readAsArrayBuffer(file);\n",
              "    });\n",
              "    // Wait for the data to be ready.\n",
              "    let fileData = yield {\n",
              "      promise: fileDataPromise,\n",
              "      response: {\n",
              "        action: 'continue',\n",
              "      }\n",
              "    };\n",
              "\n",
              "    // Use a chunked sending to avoid message size limits. See b/62115660.\n",
              "    let position = 0;\n",
              "    do {\n",
              "      const length = Math.min(fileData.byteLength - position, MAX_PAYLOAD_SIZE);\n",
              "      const chunk = new Uint8Array(fileData, position, length);\n",
              "      position += length;\n",
              "\n",
              "      const base64 = btoa(String.fromCharCode.apply(null, chunk));\n",
              "      yield {\n",
              "        response: {\n",
              "          action: 'append',\n",
              "          file: file.name,\n",
              "          data: base64,\n",
              "        },\n",
              "      };\n",
              "\n",
              "      let percentDone = fileData.byteLength === 0 ?\n",
              "          100 :\n",
              "          Math.round((position / fileData.byteLength) * 100);\n",
              "      percent.textContent = `${percentDone}% done`;\n",
              "\n",
              "    } while (position < fileData.byteLength);\n",
              "  }\n",
              "\n",
              "  // All done.\n",
              "  yield {\n",
              "    response: {\n",
              "      action: 'complete',\n",
              "    }\n",
              "  };\n",
              "}\n",
              "\n",
              "scope.google = scope.google || {};\n",
              "scope.google.colab = scope.google.colab || {};\n",
              "scope.google.colab._files = {\n",
              "  _uploadFiles,\n",
              "  _uploadFilesContinue,\n",
              "};\n",
              "})(self);\n",
              "</script> "
            ]
          },
          "metadata": {}
        },
        {
          "output_type": "stream",
          "name": "stdout",
          "text": [
            "Saving nomes_aleatorios.txt to nomes_aleatorios.txt\n",
            "+----------------+\n",
            "|           Nomes|\n",
            "+----------------+\n",
            "|  Frances Bennet|\n",
            "|   Jamie Russell|\n",
            "|  Edward Kistler|\n",
            "|   Sheila Maurer|\n",
            "|Donald Golightly|\n",
            "+----------------+\n",
            "only showing top 5 rows\n",
            "\n"
          ]
        }
      ],
      "source": [
        "!pip install pyspark\n",
        "\n",
        "from pyspark.sql import SparkSession\n",
        "from pyspark.sql.functions import *\n",
        "from pyspark.sql.types import *\n",
        "from google.colab import files\n",
        "\n",
        "# Fazer upload do arquivo 'nomes_aleatorios.txt'\n",
        "uploaded = files.upload()\n",
        "\n",
        "# Criar a Spark Session\n",
        "spark = SparkSession.builder.master(\"local[*]\").appName(\"Exercicio Intro\").getOrCreate()\n",
        "\n",
        "# Ler o arquivo 'nomes_aleatorios.txt' e carregar em um DataFrame\n",
        "df_nomes = spark.read.text(list(uploaded.keys())[0])\n",
        "df_nomes = df_nomes.withColumn(\"Nomes\", split(col(\"value\"), \"\\n\").getItem(0))\n",
        "df_nomes = df_nomes.drop(\"value\")\n",
        "\n",
        "# Exibir as primeiras 5 linhas\n",
        "df_nomes.show(5)\n"
      ]
    },
    {
      "cell_type": "code",
      "source": [
        "from pyspark.sql.types import StringType"
      ],
      "metadata": {
        "id": "-EZVlnu3f3wJ"
      },
      "execution_count": 30,
      "outputs": []
    },
    {
      "cell_type": "code",
      "source": [
        "df_nomes = df_nomes.withColumnRenamed(\"_c0\", \"Nomes\")\n",
        "df_nomes.printSchema()\n",
        "df_nomes.show(10)"
      ],
      "metadata": {
        "colab": {
          "base_uri": "https://localhost:8080/"
        },
        "id": "enByj1bWgGJd",
        "outputId": "3a80ea7c-8c41-4c39-be7e-216aa7b01c6c"
      },
      "execution_count": 31,
      "outputs": [
        {
          "output_type": "stream",
          "name": "stdout",
          "text": [
            "root\n",
            " |-- Nomes: string (nullable = true)\n",
            " |-- Escolaridade: string (nullable = false)\n",
            " |-- Pais: string (nullable = false)\n",
            " |-- AnoNascimento: date (nullable = true)\n",
            "\n",
            "+-----------------+------------+---------+-------------+\n",
            "|            Nomes|Escolaridade|     Pais|AnoNascimento|\n",
            "+-----------------+------------+---------+-------------+\n",
            "|   Frances Bennet|    Superior|Argentina|   1981-01-01|\n",
            "|    Jamie Russell| Fundamental|Venezuela|   1986-01-01|\n",
            "|   Edward Kistler| Fundamental|   Brasil|   1987-01-01|\n",
            "|    Sheila Maurer|    Superior|Venezuela|   2004-01-01|\n",
            "| Donald Golightly| Fundamental|    Chile|   1964-01-01|\n",
            "|       David Gray| Fundamental|     Peru|   1999-01-01|\n",
            "|      Joy Bennett| Fundamental|    Chile|   1986-01-01|\n",
            "|      Paul Kriese| Fundamental|  Bolívia|   1967-01-01|\n",
            "|Berniece Ornellas|       Medio|    Chile|   1955-01-01|\n",
            "|    Brian Farrell|       Medio|    Chile|   1981-01-01|\n",
            "+-----------------+------------+---------+-------------+\n",
            "only showing top 10 rows\n",
            "\n"
          ]
        }
      ]
    },
    {
      "cell_type": "code",
      "source": [
        "df_nomes = df_nomes.withColumn(\"Escolaridade\", when(rand() < 1/3, lit(\"Fundamental\"))\n",
        "                           .when(rand() < 2/3, lit(\"Medio\"))\n",
        "                           .otherwise(lit(\"Superior\")))\n",
        "df_nomes.show(10)"
      ],
      "metadata": {
        "colab": {
          "base_uri": "https://localhost:8080/"
        },
        "id": "EOc8bA_7gLY0",
        "outputId": "8a516d3c-fac5-4b9e-d079-a8a72bc0b488"
      },
      "execution_count": 32,
      "outputs": [
        {
          "output_type": "stream",
          "name": "stdout",
          "text": [
            "+-----------------+------------+---------+-------------+\n",
            "|            Nomes|Escolaridade|     Pais|AnoNascimento|\n",
            "+-----------------+------------+---------+-------------+\n",
            "|   Frances Bennet|    Superior|Argentina|   1981-01-01|\n",
            "|    Jamie Russell| Fundamental|Venezuela|   1986-01-01|\n",
            "|   Edward Kistler|       Medio|   Brasil|   1987-01-01|\n",
            "|    Sheila Maurer| Fundamental|Venezuela|   2004-01-01|\n",
            "| Donald Golightly| Fundamental|    Chile|   1964-01-01|\n",
            "|       David Gray|    Superior|     Peru|   1999-01-01|\n",
            "|      Joy Bennett|       Medio|    Chile|   1986-01-01|\n",
            "|      Paul Kriese| Fundamental|  Bolívia|   1967-01-01|\n",
            "|Berniece Ornellas|       Medio|    Chile|   1955-01-01|\n",
            "|    Brian Farrell|       Medio|    Chile|   1981-01-01|\n",
            "+-----------------+------------+---------+-------------+\n",
            "only showing top 10 rows\n",
            "\n"
          ]
        }
      ]
    },
    {
      "cell_type": "code",
      "source": [
        "from pyspark.sql.functions import rand, when\n",
        "\n",
        "# Lista dos países da América do Sul\n",
        "paises_am_sul = [\"Brasil\", \"Argentina\", \"Colômbia\", \"Peru\", \"Venezuela\", \"Chile\", \"Equador\", \"Bolívia\", \"Paraguai\", \"Uruguai\", \"Guiana\", \"Suriname\", \"Guiana Francesa\"]\n",
        "\n",
        "# Adicionar a coluna \"Pais\" com um país aleatório da lista\n",
        "df_nomes = df_nomes.withColumn(\"Pais\", when(rand() < 1/13, paises_am_sul[0])\n",
        "                                    .when(rand() < 2/13, paises_am_sul[1])\n",
        "                                    .when(rand() < 3/13, paises_am_sul[2])\n",
        "                                    .when(rand() < 4/13, paises_am_sul[3])\n",
        "                                    .when(rand() < 5/13, paises_am_sul[4])\n",
        "                                    .when(rand() < 6/13, paises_am_sul[5])\n",
        "                                    .when(rand() < 7/13, paises_am_sul[6])\n",
        "                                    .when(rand() < 8/13, paises_am_sul[7])\n",
        "                                    .when(rand() < 9/13, paises_am_sul[8])\n",
        "                                    .when(rand() < 10/13, paises_am_sul[9])\n",
        "                                    .when(rand() < 11/13, paises_am_sul[10])\n",
        "                                    .when(rand() < 12/13, paises_am_sul[11])\n",
        "                                    .otherwise(paises_am_sul[12]))\n",
        "\n",
        "# Exibir as 10 primeiras linhas com as colunas \"Nomes\", \"Escolaridade\" e \"Pais\"\n",
        "df_nomes.show(10)\n"
      ],
      "metadata": {
        "colab": {
          "base_uri": "https://localhost:8080/"
        },
        "id": "LFROGiEwgRnT",
        "outputId": "a0d3e477-96e6-46b9-a05c-b6ae5a00bf94"
      },
      "execution_count": 33,
      "outputs": [
        {
          "output_type": "stream",
          "name": "stdout",
          "text": [
            "+-----------------+------------+---------+-------------+\n",
            "|            Nomes|Escolaridade|     Pais|AnoNascimento|\n",
            "+-----------------+------------+---------+-------------+\n",
            "|   Frances Bennet|    Superior|  Bolívia|   1981-01-01|\n",
            "|    Jamie Russell| Fundamental|    Chile|   1986-01-01|\n",
            "|   Edward Kistler|       Medio|Venezuela|   1987-01-01|\n",
            "|    Sheila Maurer| Fundamental| Colômbia|   2004-01-01|\n",
            "| Donald Golightly| Fundamental|  Equador|   1964-01-01|\n",
            "|       David Gray|    Superior|  Equador|   1999-01-01|\n",
            "|      Joy Bennett|       Medio|Argentina|   1986-01-01|\n",
            "|      Paul Kriese| Fundamental| Colômbia|   1967-01-01|\n",
            "|Berniece Ornellas|       Medio|    Chile|   1955-01-01|\n",
            "|    Brian Farrell|       Medio|     Peru|   1981-01-01|\n",
            "+-----------------+------------+---------+-------------+\n",
            "only showing top 10 rows\n",
            "\n"
          ]
        }
      ]
    },
    {
      "cell_type": "code",
      "source": [
        "from pyspark.sql.functions import rand, expr\n",
        "\n",
        "# Adicionar a coluna \"AnoNascimento\" com valores aleatórios entre 1945 e 2010\n",
        "df_nomes = df_nomes.withColumn(\"AnoNascimento\", expr(\"CAST((rand() * 66 + 1945) AS INT)\"))\n",
        "\n",
        "# Exibir as 10 primeiras linhas com as colunas \"Nomes\", \"Escolaridade\", \"Pais\" e \"AnoNascimento\"\n",
        "df_nomes.show(10)\n"
      ],
      "metadata": {
        "colab": {
          "base_uri": "https://localhost:8080/"
        },
        "id": "UZzg9MyglOTS",
        "outputId": "93fe3945-a008-479d-b489-3db33ef224df"
      },
      "execution_count": 34,
      "outputs": [
        {
          "output_type": "stream",
          "name": "stdout",
          "text": [
            "+-----------------+------------+---------+-------------+\n",
            "|            Nomes|Escolaridade|     Pais|AnoNascimento|\n",
            "+-----------------+------------+---------+-------------+\n",
            "|   Frances Bennet|    Superior|  Bolívia|         1979|\n",
            "|    Jamie Russell| Fundamental|    Chile|         1960|\n",
            "|   Edward Kistler|       Medio|Venezuela|         2003|\n",
            "|    Sheila Maurer| Fundamental| Colômbia|         1968|\n",
            "| Donald Golightly| Fundamental|  Equador|         1987|\n",
            "|       David Gray|    Superior|  Equador|         1983|\n",
            "|      Joy Bennett|       Medio|Argentina|         1980|\n",
            "|      Paul Kriese| Fundamental| Colômbia|         1999|\n",
            "|Berniece Ornellas|       Medio|    Chile|         1956|\n",
            "|    Brian Farrell|       Medio|     Peru|         1992|\n",
            "+-----------------+------------+---------+-------------+\n",
            "only showing top 10 rows\n",
            "\n"
          ]
        }
      ]
    },
    {
      "cell_type": "code",
      "source": [
        "!pip install --upgrade pyspark"
      ],
      "metadata": {
        "colab": {
          "base_uri": "https://localhost:8080/"
        },
        "id": "CI_7Yln3VBrh",
        "outputId": "4f6ac2bc-8a00-43e8-be89-9578833ead8b"
      },
      "execution_count": 15,
      "outputs": [
        {
          "output_type": "stream",
          "name": "stdout",
          "text": [
            "Looking in indexes: https://pypi.org/simple, https://us-python.pkg.dev/colab-wheels/public/simple/\n",
            "Requirement already satisfied: pyspark in /usr/local/lib/python3.10/dist-packages (3.4.1)\n",
            "Requirement already satisfied: py4j==0.10.9.7 in /usr/local/lib/python3.10/dist-packages (from pyspark) (0.10.9.7)\n"
          ]
        }
      ]
    },
    {
      "cell_type": "code",
      "source": [],
      "metadata": {
        "id": "P9sVkZiwl05Q"
      },
      "execution_count": null,
      "outputs": []
    },
    {
      "cell_type": "code",
      "source": [
        "# Registrar o DataFrame como uma tabela temporária\n",
        "df_nomes.createOrReplaceTempView(\"nomes_table\")\n",
        "\n",
        "# Executar a consulta SQL para selecionar as pessoas que nasceram a partir do ano 2001\n",
        "query = \"\"\"\n",
        "    SELECT Nomes, Escolaridade, Pais, AnoNascimento\n",
        "    FROM nomes_table\n",
        "    WHERE AnoNascimento >= 2001\n",
        "    LIMIT 10\n",
        "\"\"\"\n",
        "\n",
        "# Executar a consulta SQL e armazenar o resultado em um novo DataFrame\n",
        "df_select = spark.sql(query)\n",
        "\n",
        "# Exibir 10 nomes do DataFrame df_select\n",
        "df_select.show()\n"
      ],
      "metadata": {
        "colab": {
          "base_uri": "https://localhost:8080/"
        },
        "id": "pKQNhkFRmfht",
        "outputId": "a2554e7c-31af-450a-8166-cc1afb998cb6"
      },
      "execution_count": 35,
      "outputs": [
        {
          "output_type": "stream",
          "name": "stdout",
          "text": [
            "+----------------+------------+---------+-------------+\n",
            "|           Nomes|Escolaridade|     Pais|AnoNascimento|\n",
            "+----------------+------------+---------+-------------+\n",
            "|  Edward Kistler|       Medio|Venezuela|         2003|\n",
            "| Howard Lazarine|       Medio|     Peru|         2006|\n",
            "|    David Medina|    Superior|Venezuela|         2003|\n",
            "|  Lorenzo Woodis|       Medio| Colômbia|         2005|\n",
            "|  Herbert Morris| Fundamental|   Brasil|         2003|\n",
            "| Helen Blackwell| Fundamental|   Brasil|         2006|\n",
            "|Wallace Mitchell|    Superior|    Chile|         2009|\n",
            "| Kenneth Rayburn|       Medio|Venezuela|         2002|\n",
            "|  Mary Dillahunt|    Superior|Venezuela|         2003|\n",
            "|     Sandra Todd|       Medio| Colômbia|         2007|\n",
            "+----------------+------------+---------+-------------+\n",
            "\n"
          ]
        }
      ]
    },
    {
      "cell_type": "code",
      "source": [
        "from pyspark.sql.functions import year, to_date\n",
        "\n",
        "# Converter a coluna \"AnoNascimento\" para o tipo de data\n",
        "df_nomes = df_nomes.withColumn(\"AnoNascimento\", to_date(df_nomes[\"AnoNascimento\"].cast(\"string\"), \"yyyy\"))\n",
        "\n",
        "# Filtrar as pessoas da geração Millennials\n",
        "df_millennials = df_nomes.select(\"Nomes\").filter(year(\"AnoNascimento\").between(1980, 1994))\n",
        "\n",
        "# Contar o número de pessoas na geração Millennials\n",
        "count_millennials = df_millennials.count()\n",
        "\n",
        "# Exibir o número de pessoas na geração Millennials\n",
        "print(\"Número de pessoas na geração Millennials:\", count_millennials)\n"
      ],
      "metadata": {
        "colab": {
          "base_uri": "https://localhost:8080/"
        },
        "id": "18ZCGuM3m6CT",
        "outputId": "e7ed5f68-8760-4348-cee6-b559f0391d94"
      },
      "execution_count": 36,
      "outputs": [
        {
          "output_type": "stream",
          "name": "stdout",
          "text": [
            "Número de pessoas na geração Millennials: 2273005\n"
          ]
        }
      ]
    },
    {
      "cell_type": "code",
      "source": [
        "# Registrar o DataFrame como uma tabela temporária\n",
        "df_nomes.createOrReplaceTempView(\"nomes_table\")\n",
        "\n",
        "# Executar a consulta SQL para contar o número de pessoas da geração Millennials\n",
        "query = \"\"\"\n",
        "    SELECT COUNT(*) AS count_millennials\n",
        "    FROM nomes_table\n",
        "    WHERE YEAR(AnoNascimento) BETWEEN 1980 AND 1994\n",
        "\"\"\"\n",
        "\n",
        "# Executar a consulta SQL e obter o resultado\n",
        "result = spark.sql(query)\n",
        "\n",
        "# Obter o número de pessoas na geração Millennials a partir do resultado\n",
        "count_millennials = result.first()[0]\n",
        "\n",
        "# Exibir o número de pessoas na geração Millennials\n",
        "print(\"Número de pessoas na geração Millennials:\", count_millennials)\n"
      ],
      "metadata": {
        "colab": {
          "base_uri": "https://localhost:8080/"
        },
        "id": "ULv3plv3oelu",
        "outputId": "0c9f1f9f-d2f2-4ef0-8066-214ac43e23cf"
      },
      "execution_count": 37,
      "outputs": [
        {
          "output_type": "stream",
          "name": "stdout",
          "text": [
            "Número de pessoas na geração Millennials: 2273005\n"
          ]
        }
      ]
    },
    {
      "cell_type": "code",
      "source": [
        "# Registrar o DataFrame como uma tabela temporária\n",
        "df_nomes.createOrReplaceTempView(\"nomes_table\")\n",
        "\n",
        "# Executar a consulta SQL para obter a contagem de pessoas por país e geração\n",
        "query = \"\"\"\n",
        "    SELECT Pais,\n",
        "           CASE\n",
        "               WHEN YEAR(AnoNascimento) BETWEEN 1944 AND 1964 THEN 'Baby Boomers'\n",
        "               WHEN YEAR(AnoNascimento) BETWEEN 1965 AND 1979 THEN 'Geracao X'\n",
        "               WHEN YEAR(AnoNascimento) BETWEEN 1980 AND 1994 THEN 'Millennials'\n",
        "               WHEN YEAR(AnoNascimento) BETWEEN 1995 AND 2015 THEN 'Geracao Z'\n",
        "           END AS Geracao,\n",
        "           COUNT(*) AS Quantidade\n",
        "    FROM nomes_table\n",
        "    GROUP BY Pais, Geracao\n",
        "    ORDER BY Pais, Geracao\n",
        "\"\"\"\n",
        "\n",
        "# Executar a consulta SQL e armazenar o resultado em um novo DataFrame\n",
        "df_result = spark.sql(query)\n",
        "\n",
        "# Exibir todas as linhas do DataFrame df_result\n",
        "df_result.show(df_result.count(), truncate=False)\n"
      ],
      "metadata": {
        "colab": {
          "base_uri": "https://localhost:8080/"
        },
        "id": "4fEkIWELp090",
        "outputId": "e9358759-3516-44c3-becd-ab2ab27c53e4"
      },
      "execution_count": 38,
      "outputs": [
        {
          "output_type": "stream",
          "name": "stdout",
          "text": [
            "+---------------+------------+----------+\n",
            "|Pais           |Geracao     |Quantidade|\n",
            "+---------------+------------+----------+\n",
            "|Argentina      |Baby Boomers|430491    |\n",
            "|Argentina      |Geracao X   |322605    |\n",
            "|Argentina      |Geracao Z   |343737    |\n",
            "|Argentina      |Millennials |322352    |\n",
            "|Bolívia        |Baby Boomers|118439    |\n",
            "|Bolívia        |Geracao X   |88751     |\n",
            "|Bolívia        |Geracao Z   |94709     |\n",
            "|Bolívia        |Millennials |88568     |\n",
            "|Brasil         |Baby Boomers|232813    |\n",
            "|Brasil         |Geracao X   |175564    |\n",
            "|Brasil         |Geracao Z   |186227    |\n",
            "|Brasil         |Millennials |174811    |\n",
            "|Chile          |Baby Boomers|357895    |\n",
            "|Chile          |Geracao X   |269472    |\n",
            "|Chile          |Geracao Z   |286107    |\n",
            "|Chile          |Millennials |269075    |\n",
            "|Colômbia       |Baby Boomers|546328    |\n",
            "|Colômbia       |Geracao X   |410658    |\n",
            "|Colômbia       |Geracao Z   |436165    |\n",
            "|Colômbia       |Millennials |409398    |\n",
            "|Equador        |Baby Boomers|224485    |\n",
            "|Equador        |Geracao X   |168436    |\n",
            "|Equador        |Geracao Z   |180025    |\n",
            "|Equador        |Millennials |168493    |\n",
            "|Guiana         |Baby Boomers|4421      |\n",
            "|Guiana         |Geracao X   |3468      |\n",
            "|Guiana         |Geracao Z   |3473      |\n",
            "|Guiana         |Millennials |3372      |\n",
            "|Guiana Francesa|Baby Boomers|72        |\n",
            "|Guiana Francesa|Geracao X   |39        |\n",
            "|Guiana Francesa|Geracao Z   |53        |\n",
            "|Guiana Francesa|Millennials |50        |\n",
            "|Paraguai       |Baby Boomers|51053     |\n",
            "|Paraguai       |Geracao X   |38755     |\n",
            "|Paraguai       |Geracao Z   |40929     |\n",
            "|Paraguai       |Millennials |38642     |\n",
            "|Peru           |Baby Boomers|560485    |\n",
            "|Peru           |Geracao X   |420015    |\n",
            "|Peru           |Geracao Z   |448164    |\n",
            "|Peru           |Millennials |420286    |\n",
            "|Suriname       |Baby Boomers|727       |\n",
            "|Suriname       |Geracao X   |570       |\n",
            "|Suriname       |Geracao Z   |587       |\n",
            "|Suriname       |Millennials |547       |\n",
            "|Uruguai        |Baby Boomers|17367     |\n",
            "|Uruguai        |Geracao X   |13374     |\n",
            "|Uruguai        |Geracao Z   |13854     |\n",
            "|Uruguai        |Millennials |13358     |\n",
            "|Venezuela      |Baby Boomers|485093    |\n",
            "|Venezuela      |Geracao X   |363529    |\n",
            "|Venezuela      |Geracao Z   |388060    |\n",
            "|Venezuela      |Millennials |364053    |\n",
            "+---------------+------------+----------+\n",
            "\n"
          ]
        }
      ]
    }
  ]
}