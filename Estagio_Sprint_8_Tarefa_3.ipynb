{
  "nbformat": 4,
  "nbformat_minor": 0,
  "metadata": {
    "colab": {
      "provenance": [],
      "authorship_tag": "ABX9TyNTBJutDIXwTkW90CLm5QDw",
      "include_colab_link": true
    },
    "kernelspec": {
      "name": "python3",
      "display_name": "Python 3"
    },
    "language_info": {
      "name": "python"
    }
  },
  "cells": [
    {
      "cell_type": "markdown",
      "metadata": {
        "id": "view-in-github",
        "colab_type": "text"
      },
      "source": [
        "<a href=\"https://colab.research.google.com/github/kgd1020/varios_objetos/blob/main/Estagio_Sprint_8_Tarefa_3.ipynb\" target=\"_parent\"><img src=\"https://colab.research.google.com/assets/colab-badge.svg\" alt=\"Open In Colab\"/></a>"
      ]
    },
    {
      "cell_type": "markdown",
      "source": [
        "### ESTÁGIO SPRINT-8 TAREFA-3"
      ],
      "metadata": {
        "id": "oPmaKwCV_3IT"
      }
    },
    {
      "cell_type": "markdown",
      "source": [
        "### [Warm up] Em Python, declare e inicialize uma lista contendo 250 inteiros obtidos de forma aleatória. Após, aplicar o método reverse sobre o conteúdo da lista e imprimir o resultado."
      ],
      "metadata": {
        "id": "3GmTpKHTANq_"
      }
    },
    {
      "cell_type": "code",
      "source": [
        "import random"
      ],
      "metadata": {
        "id": "MmTlkjePAei3"
      },
      "execution_count": 2,
      "outputs": []
    },
    {
      "cell_type": "code",
      "source": [
        "lista_inteiros = [random.randint(0, 1000) for _ in range(250)]"
      ],
      "metadata": {
        "id": "AF_2uL49AgJg"
      },
      "execution_count": 3,
      "outputs": []
    },
    {
      "cell_type": "code",
      "source": [
        "lista_inteiros.reverse()\n",
        "print(lista_inteiros)"
      ],
      "metadata": {
        "colab": {
          "base_uri": "https://localhost:8080/"
        },
        "id": "uMQzfkEdAkqy",
        "outputId": "b87fb56c-2b77-406a-da4b-ea153b4f58b8"
      },
      "execution_count": 4,
      "outputs": [
        {
          "output_type": "stream",
          "name": "stdout",
          "text": [
            "[693, 166, 415, 337, 70, 557, 878, 502, 26, 404, 756, 525, 1000, 798, 340, 438, 710, 734, 847, 174, 635, 175, 969, 996, 453, 333, 711, 537, 325, 124, 933, 200, 389, 188, 315, 763, 275, 266, 10, 925, 190, 135, 762, 856, 963, 697, 48, 182, 309, 383, 774, 358, 427, 989, 265, 450, 533, 701, 653, 23, 895, 605, 875, 215, 806, 250, 575, 648, 999, 907, 871, 856, 232, 845, 889, 171, 180, 767, 941, 662, 897, 922, 942, 702, 918, 731, 126, 646, 793, 612, 237, 757, 764, 70, 735, 924, 917, 497, 412, 732, 446, 360, 791, 410, 459, 215, 604, 757, 247, 551, 721, 339, 719, 539, 382, 202, 985, 13, 977, 685, 385, 519, 433, 31, 598, 749, 162, 157, 738, 975, 361, 729, 493, 599, 655, 979, 771, 299, 469, 776, 466, 927, 133, 567, 285, 544, 322, 637, 793, 101, 862, 881, 986, 421, 72, 357, 35, 620, 201, 939, 551, 215, 786, 520, 221, 347, 583, 34, 246, 503, 820, 212, 298, 701, 974, 839, 703, 975, 200, 497, 446, 328, 93, 908, 773, 772, 47, 664, 928, 27, 665, 574, 558, 68, 118, 758, 662, 766, 522, 78, 932, 426, 670, 257, 689, 783, 861, 269, 480, 191, 581, 677, 106, 270, 622, 928, 967, 714, 228, 735, 741, 131, 974, 179, 732, 251, 185, 126, 307, 891, 656, 99, 975, 670, 282, 403, 210, 518, 5, 803, 78, 435, 330, 833, 481, 918, 220, 99, 316, 10]\n"
          ]
        }
      ]
    },
    {
      "cell_type": "markdown",
      "source": [
        "### [Warm up] Em Python, declare e inicialize uma lista contendo o nome de 20 animais. Ordene-os em ordem crescente e itere sobre os itens, imprimindo um a um (você pode utilizar list comprehension aqui).  Na sequência, armazene o conteúdo da lista em um arquivo de texto, um item em cada linha, no formato CSV."
      ],
      "metadata": {
        "id": "4NG2eIR6As5p"
      }
    },
    {
      "cell_type": "code",
      "source": [
        "animais = [\"cachorro\", \"gato\", \"elefante\", \"leão\", \"girafa\", \"macaco\", \"coelho\", \"cavalo\", \"tigre\", \"pato\",\n",
        "           \"papagaio\", \"canguru\", \"peixe\", \"formiga\", \"abelha\", \"zebra\", \"coruja\", \"urso\", \"golfinho\", \"camelo\"]"
      ],
      "metadata": {
        "id": "3fLWV5sVBAIn"
      },
      "execution_count": 5,
      "outputs": []
    },
    {
      "cell_type": "code",
      "source": [
        "animais_ordenados = sorted(animais)\n",
        "print([animal for animal in animais_ordenados])"
      ],
      "metadata": {
        "colab": {
          "base_uri": "https://localhost:8080/"
        },
        "id": "S3SMISX5BJQc",
        "outputId": "58a3518a-32bd-4887-e502-182b8cabe9c8"
      },
      "execution_count": 6,
      "outputs": [
        {
          "output_type": "stream",
          "name": "stdout",
          "text": [
            "['abelha', 'cachorro', 'camelo', 'canguru', 'cavalo', 'coelho', 'coruja', 'elefante', 'formiga', 'gato', 'girafa', 'golfinho', 'leão', 'macaco', 'papagaio', 'pato', 'peixe', 'tigre', 'urso', 'zebra']\n"
          ]
        }
      ]
    },
    {
      "cell_type": "code",
      "source": [
        "with open(\"animais.csv\", \"w\", encoding=\"utf-8\") as arquivo:\n",
        "    for animal in animais_ordenados:\n",
        "        arquivo.write(f\"{animal}\\n\")"
      ],
      "metadata": {
        "id": "bClRE-CRBR5F"
      },
      "execution_count": 8,
      "outputs": []
    },
    {
      "cell_type": "markdown",
      "source": [
        "### [Laboratório] Elaborar um código Python para gerar um dataset de nomes de pessoas. Siga os passos a seguir para realizar a atividade:"
      ],
      "metadata": {
        "id": "E1d6KNjSCpOz"
      }
    },
    {
      "cell_type": "markdown",
      "source": [
        "### Passo 1:  Instalar biblioteca names para geração de nomes aleatórios. O comando de instalação é pip install names"
      ],
      "metadata": {
        "id": "wnhKENz1Cw2y"
      }
    },
    {
      "cell_type": "code",
      "source": [
        "pip install names"
      ],
      "metadata": {
        "colab": {
          "base_uri": "https://localhost:8080/"
        },
        "id": "4TfM6oLKC5Ia",
        "outputId": "dac5b10d-e663-49e6-ebaa-26b5fb88a0ef"
      },
      "execution_count": 9,
      "outputs": [
        {
          "output_type": "stream",
          "name": "stdout",
          "text": [
            "Looking in indexes: https://pypi.org/simple, https://us-python.pkg.dev/colab-wheels/public/simple/\n",
            "Collecting names\n",
            "  Downloading names-0.3.0.tar.gz (789 kB)\n",
            "\u001b[2K     \u001b[90m━━━━━━━━━━━━━━━━━━━━━━━━━━━━━━━━━━━━━━\u001b[0m \u001b[32m789.1/789.1 kB\u001b[0m \u001b[31m45.3 MB/s\u001b[0m eta \u001b[36m0:00:00\u001b[0m\n",
            "\u001b[?25h  Preparing metadata (setup.py) ... \u001b[?25l\u001b[?25hdone\n",
            "Building wheels for collected packages: names\n",
            "  Building wheel for names (setup.py) ... \u001b[?25l\u001b[?25hdone\n",
            "  Created wheel for names: filename=names-0.3.0-py3-none-any.whl size=803682 sha256=197f6ba0b3fc40e74b65e49a9826a8b9b833b52f0976b032f79e58fde57475cf\n",
            "  Stored in directory: /root/.cache/pip/wheels/fc/9a/6f/78f4282bbcaa2d8c678b73c54c0bb1b7a04009f0d7cec79fce\n",
            "Successfully built names\n",
            "Installing collected packages: names\n",
            "Successfully installed names-0.3.0\n"
          ]
        }
      ]
    },
    {
      "cell_type": "markdown",
      "source": [
        "### Passo 2: Importar as bibliotecas random, time, os e names em seu código"
      ],
      "metadata": {
        "id": "4sfFBmIcDCdl"
      }
    },
    {
      "cell_type": "code",
      "source": [
        "import random\n",
        "import time\n",
        "import os\n",
        "import names"
      ],
      "metadata": {
        "id": "x8T8EqzLDK0K"
      },
      "execution_count": 10,
      "outputs": []
    },
    {
      "cell_type": "markdown",
      "source": [
        "### Passo 3: Definir os parâmetros para geração do dataset, ou seja, a quantidades de nomes aleatórios e a quantidade de nomes que devem ser únicos.\n"
      ],
      "metadata": {
        "id": "mLay5LIsDXgn"
      }
    },
    {
      "cell_type": "markdown",
      "source": [
        "### Define a semente de aleatoriedade"
      ],
      "metadata": {
        "id": "mmyTrC-8DhMp"
      }
    },
    {
      "cell_type": "code",
      "source": [
        "random.seed(40)\n",
        "\n",
        "qtd_nomes_unicos = 3000\n",
        "qtd_nomes_aleatorios = 10000000"
      ],
      "metadata": {
        "id": "eKwdUmymDai8"
      },
      "execution_count": 11,
      "outputs": []
    },
    {
      "cell_type": "markdown",
      "source": [
        "### Gerar os nomes aleatórios e um arquivo de texto com esses nomes"
      ],
      "metadata": {
        "id": "jBOhn-8SDsTS"
      }
    },
    {
      "cell_type": "code",
      "source": [
        "# Gerar os nomes aleatórios\n",
        "lista_nomes_unicos = []\n",
        "for i in range(0, qtd_nomes_unicos):\n",
        "    lista_nomes_unicos.append(names.get_full_name())\n",
        "\n",
        "print(\"Gerando {} nomes aleatórios\".format(qtd_nomes_aleatorios))\n",
        "dados = []\n",
        "\n",
        "for i in range(0, qtd_nomes_aleatorios):\n",
        "    dados.append(random.choice(lista_nomes_unicos))\n",
        "\n",
        "# Gerar um arquivo de texto com os nomes\n",
        "nome_arquivo = \"nomes_aleatorios.txt\"\n",
        "with open(nome_arquivo, \"w\") as arquivo:\n",
        "    for nome in dados:\n",
        "        arquivo.write(nome + \"\\n\")\n",
        "os.system(nome_arquivo)"
      ],
      "metadata": {
        "colab": {
          "base_uri": "https://localhost:8080/"
        },
        "id": "NKlMDN5WEAn4",
        "outputId": "7364a873-3d2b-46de-f510-82cc0bf1741d"
      },
      "execution_count": 14,
      "outputs": [
        {
          "output_type": "stream",
          "name": "stdout",
          "text": [
            "Gerando 10000000 nomes aleatórios\n"
          ]
        },
        {
          "output_type": "execute_result",
          "data": {
            "text/plain": [
              "32512"
            ]
          },
          "metadata": {},
          "execution_count": 14
        }
      ]
    },
    {
      "cell_type": "markdown",
      "source": [
        "### Abrir o arquivo e verificar seu conteúdo. O valor de retorno \"32512\" indica que o comando foi executado com sucesso, mas não houve saída disponível para ser exibida. Isso acontece quando o comando não produz saída para ser exibida no terminal."
      ],
      "metadata": {
        "id": "S4QmiT7gEGj_"
      }
    },
    {
      "cell_type": "code",
      "source": [
        "retorno = os.system(nome_arquivo)\n",
        "print(retorno)\n"
      ],
      "metadata": {
        "colab": {
          "base_uri": "https://localhost:8080/"
        },
        "id": "agz3TMdJErsJ",
        "outputId": "3dbfdeed-34cd-4540-ecc3-e3616aaab5aa"
      },
      "execution_count": 15,
      "outputs": [
        {
          "output_type": "stream",
          "name": "stdout",
          "text": [
            "32512\n"
          ]
        }
      ]
    }
  ]
}